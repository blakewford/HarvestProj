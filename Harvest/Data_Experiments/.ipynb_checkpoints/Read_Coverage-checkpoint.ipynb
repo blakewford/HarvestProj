{
 "cells": [
  {
   "cell_type": "code",
   "execution_count": 1,
   "metadata": {},
   "outputs": [],
   "source": [
    "import pandas"
   ]
  },
  {
   "cell_type": "code",
   "execution_count": 4,
   "metadata": {},
   "outputs": [],
   "source": [
    "cov = pandas.read_csv('../Data/Coverage/ilr.csv', header=None)"
   ]
  },
  {
   "cell_type": "code",
   "execution_count": 5,
   "metadata": {},
   "outputs": [
    {
     "data": {
      "text/html": [
       "<div>\n",
       "<table border=\"1\" class=\"dataframe\">\n",
       "  <thead>\n",
       "    <tr style=\"text-align: right;\">\n",
       "      <th></th>\n",
       "      <th>0</th>\n",
       "      <th>1</th>\n",
       "      <th>2</th>\n",
       "    </tr>\n",
       "  </thead>\n",
       "  <tbody>\n",
       "    <tr>\n",
       "      <th>0</th>\n",
       "      <td>1201 S LAMAR BLVD</td>\n",
       "      <td>0.044</td>\n",
       "      <td>23512.0709392</td>\n",
       "    </tr>\n",
       "    <tr>\n",
       "      <th>1</th>\n",
       "      <td>1219 S LAMAR BLVD</td>\n",
       "      <td>1.5663345468</td>\n",
       "      <td>1411.564</td>\n",
       "    </tr>\n",
       "    <tr>\n",
       "      <th>2</th>\n",
       "      <td>1311 S LAMAR BLVD</td>\n",
       "      <td>0.0145367952845</td>\n",
       "      <td>59990.6694214</td>\n",
       "    </tr>\n",
       "    <tr>\n",
       "      <th>3</th>\n",
       "      <td>1303 S LAMAR BLVD</td>\n",
       "      <td>0.0110095136766</td>\n",
       "      <td>43.6931204</td>\n",
       "    </tr>\n",
       "    <tr>\n",
       "      <th>4</th>\n",
       "      <td>S LAMAR BLVD</td>\n",
       "      <td>0.0393426628052</td>\n",
       "      <td>117564.546009</td>\n",
       "    </tr>\n",
       "  </tbody>\n",
       "</table>\n",
       "</div>"
      ],
      "text/plain": [
       "                   0                1              2\n",
       "0  1201 S LAMAR BLVD            0.044  23512.0709392\n",
       "1  1219 S LAMAR BLVD     1.5663345468       1411.564\n",
       "2  1311 S LAMAR BLVD  0.0145367952845  59990.6694214\n",
       "3  1303 S LAMAR BLVD  0.0110095136766     43.6931204\n",
       "4       S LAMAR BLVD  0.0393426628052  117564.546009"
      ]
     },
     "execution_count": 5,
     "metadata": {},
     "output_type": "execute_result"
    }
   ],
   "source": [
    "cov.head(5)"
   ]
  },
  {
   "cell_type": "code",
   "execution_count": 6,
   "metadata": {},
   "outputs": [
    {
     "name": "stdout",
     "output_type": "stream",
     "text": [
      "<class 'pandas.core.frame.DataFrame'>\n",
      "RangeIndex: 211128 entries, 0 to 211127\n",
      "Data columns (total 3 columns):\n",
      "0    210498 non-null object\n",
      "1    211120 non-null object\n",
      "2    211127 non-null object\n",
      "dtypes: object(3)\n",
      "memory usage: 4.8+ MB\n"
     ]
    }
   ],
   "source": [
    "cov.info()"
   ]
  },
  {
   "cell_type": "code",
   "execution_count": null,
   "metadata": {},
   "outputs": [],
   "source": []
  }
 ],
 "metadata": {
  "kernelspec": {
   "display_name": "Python 3",
   "language": "python",
   "name": "python3"
  },
  "language_info": {
   "codemirror_mode": {
    "name": "ipython",
    "version": 3
   },
   "file_extension": ".py",
   "mimetype": "text/x-python",
   "name": "python",
   "nbconvert_exporter": "python",
   "pygments_lexer": "ipython3",
   "version": "3.6.0"
  }
 },
 "nbformat": 4,
 "nbformat_minor": 4
}
